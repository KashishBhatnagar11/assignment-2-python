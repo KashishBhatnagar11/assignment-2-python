{
 "cells": [
  {
   "cell_type": "code",
   "execution_count": 1,
   "id": "10a142f3-400f-4b14-a63d-45e3db9dd3ed",
   "metadata": {},
   "outputs": [],
   "source": [
    "# 1. Discuss string slicing and provide examples."
   ]
  },
  {
   "cell_type": "code",
   "execution_count": 2,
   "id": "725db0a8-e777-482e-9947-4247d4a66f5f",
   "metadata": {},
   "outputs": [],
   "source": [
    "#Programming techniques like string slicing let you take a section of a string and extract it according to the indices you provide. In languages like Python, where strings are indexed, this is especially helpful because slicing provides an easy method for manipulating and accessing substrings.\n",
    "#One of the most useful features for manipulating strings is string slicing, which makes handling substrings more concise and facilitates working with text data."
   ]
  },
  {
   "cell_type": "code",
   "execution_count": 7,
   "id": "bbeff336-623a-49ef-b3d8-871125c1e30a",
   "metadata": {},
   "outputs": [
    {
     "data": {
      "text/plain": [
       "'Hello, '"
      ]
     },
     "execution_count": 7,
     "metadata": {},
     "output_type": "execute_result"
    }
   ],
   "source": [
    "a = \"Hello, World!\"    #basic\n",
    "b = a[0:7] \n",
    "b"
   ]
  },
  {
   "cell_type": "code",
   "execution_count": 8,
   "id": "6d69b5ea-aad7-43ad-bcda-ac1f2ea991f8",
   "metadata": {},
   "outputs": [
    {
     "data": {
      "text/plain": [
       "'Hlo ol!'"
      ]
     },
     "execution_count": 8,
     "metadata": {},
     "output_type": "execute_result"
    }
   ],
   "source": [
    "a = \"Hello, World!\"\n",
    "c = a[::2]             #stepwise\n",
    "c"
   ]
  },
  {
   "cell_type": "code",
   "execution_count": 9,
   "id": "5b6d8468-3dc3-4a1c-994f-3266ca045ed5",
   "metadata": {},
   "outputs": [
    {
     "data": {
      "text/plain": [
       "'!dlroW ,olleH'"
      ]
     },
     "execution_count": 9,
     "metadata": {},
     "output_type": "execute_result"
    }
   ],
   "source": [
    "a = \"Hello, World!\"\n",
    "reversed_text = a[::-1]   #reversing\n",
    "reversed_text"
   ]
  },
  {
   "cell_type": "code",
   "execution_count": 10,
   "id": "2d3c1e29-2a04-445e-b4a9-a0f749c6c49a",
   "metadata": {},
   "outputs": [],
   "source": [
    "# 2. Explain the key features of lists in Python."
   ]
  },
  {
   "cell_type": "code",
   "execution_count": 16,
   "id": "8b36464a-f405-4ac9-ba9e-409dd6ccb791",
   "metadata": {},
   "outputs": [],
   "source": [
    "#Lists contain elements of different type (heterogeneous elements) "
   ]
  },
  {
   "cell_type": "code",
   "execution_count": 21,
   "id": "02fcadd0-d25a-495f-aff0-978e6567c302",
   "metadata": {},
   "outputs": [
    {
     "name": "stdout",
     "output_type": "stream",
     "text": [
      "cherry\n"
     ]
    }
   ],
   "source": [
    "#Lists enable index-based access to elements by preserving the order in which they were added.\n",
    "\n",
    "fruit = ['apple', 'orange', 'cherry']   #ordered collection\n",
    "print(fruit[2])  "
   ]
  },
  {
   "cell_type": "code",
   "execution_count": 15,
   "id": "6853c9d4-803c-4844-8c3e-463388a2c90b",
   "metadata": {},
   "outputs": [
    {
     "data": {
      "text/plain": [
       "[1, 2, True, 'kashish', 'pwskills']"
      ]
     },
     "execution_count": 15,
     "metadata": {},
     "output_type": "execute_result"
    }
   ],
   "source": [
    "# in-built methods like append(), remove(), and sort()\n",
    "\n",
    "a=[1,2,True,\"kashish\"]\n",
    "a.append(\"pwskills\")       #append add to last\n",
    "a"
   ]
  },
  {
   "cell_type": "code",
   "execution_count": 19,
   "id": "171d388c-7274-422e-afba-a904d8d314f1",
   "metadata": {},
   "outputs": [
    {
     "data": {
      "text/plain": [
       "[2, 'kashish', 'pwskills']"
      ]
     },
     "execution_count": 19,
     "metadata": {},
     "output_type": "execute_result"
    }
   ],
   "source": [
    "a.remove(True)\n",
    "a"
   ]
  },
  {
   "cell_type": "code",
   "execution_count": 22,
   "id": "370fdb08-9eee-41fd-90eb-b66e3f68eac3",
   "metadata": {},
   "outputs": [
    {
     "data": {
      "text/plain": [
       "['apple', 'cherry', 'orange']"
      ]
     },
     "execution_count": 22,
     "metadata": {},
     "output_type": "execute_result"
    }
   ],
   "source": [
    "fruit = ['apple', 'orange', 'cherry'] \n",
    "fruit.sort()\n",
    "fruit"
   ]
  },
  {
   "cell_type": "code",
   "execution_count": 24,
   "id": "57634705-f33a-45dc-9e13-0261b1dc9800",
   "metadata": {},
   "outputs": [
    {
     "data": {
      "text/plain": [
       "['apple', 'blueberry', 'cherry']"
      ]
     },
     "execution_count": 24,
     "metadata": {},
     "output_type": "execute_result"
    }
   ],
   "source": [
    "# mutable\n",
    "\n",
    "fruit = ['apple', 'orange', 'cherry'] \n",
    "fruit[1]=\"blueberry\"\n",
    "fruit"
   ]
  },
  {
   "cell_type": "code",
   "execution_count": 25,
   "id": "9066d9c4-30cb-4bc9-b5b1-1f4360698c46",
   "metadata": {},
   "outputs": [],
   "source": [
    "# 3. Describe how to access, modify and delete elements in a list with examples."
   ]
  },
  {
   "cell_type": "code",
   "execution_count": 26,
   "id": "bb8eab33-9f95-4b60-8550-c98024da01c1",
   "metadata": {},
   "outputs": [
    {
     "name": "stdout",
     "output_type": "stream",
     "text": [
      "guava\n",
      "orange\n"
     ]
    }
   ],
   "source": [
    "fruits = ['apple','guava', 'banana','watermelon','orange']  #access\n",
    "print(fruits[1])  \n",
    "print(fruits[-1])"
   ]
  },
  {
   "cell_type": "code",
   "execution_count": 33,
   "id": "197c10fe-b8c9-4b5d-8485-1a3d88e1b2ba",
   "metadata": {},
   "outputs": [
    {
     "data": {
      "text/plain": [
       "['apple', 'guava', 'banana', 'watermelon', 'blueberry']"
      ]
     },
     "execution_count": 33,
     "metadata": {},
     "output_type": "execute_result"
    }
   ],
   "source": [
    "fruits = ['apple','guava', 'banana','watermelon','orange']\n",
    "fruits[4]=\"blueberry\"               #modify(mutability) \n",
    "fruits"
   ]
  },
  {
   "cell_type": "code",
   "execution_count": 36,
   "id": "a9525372-91c6-4577-bd5f-27a8cecef575",
   "metadata": {},
   "outputs": [
    {
     "data": {
      "text/plain": [
       "['apple', 'guava', 'watermelon', 'orange']"
      ]
     },
     "execution_count": 36,
     "metadata": {},
     "output_type": "execute_result"
    }
   ],
   "source": [
    "fruits = ['apple','guava', 'banana','watermelon','orange']\n",
    "del fruits[2]                        #delete>>Removes an element by index\n",
    "fruits"
   ]
  },
  {
   "cell_type": "code",
   "execution_count": 38,
   "id": "6fe94a3f-f987-4e2e-8ef9-df6228e71adc",
   "metadata": {},
   "outputs": [
    {
     "data": {
      "text/plain": [
       "['apple', 'banana', 'watermelon', 'orange']"
      ]
     },
     "execution_count": 38,
     "metadata": {},
     "output_type": "execute_result"
    }
   ],
   "source": [
    "fruits = ['apple','guava', 'banana','watermelon','orange']\n",
    "fruits.remove('guava')                 #remove>>Removes the first occurrence of a specific value\n",
    "fruits "
   ]
  },
  {
   "cell_type": "code",
   "execution_count": 39,
   "id": "9cb22bf7-351f-4c15-9cd8-260b2112261c",
   "metadata": {},
   "outputs": [
    {
     "data": {
      "text/plain": [
       "['apple', 'guava', 'banana', 'watermelon']"
      ]
     },
     "execution_count": 39,
     "metadata": {},
     "output_type": "execute_result"
    }
   ],
   "source": [
    "fruits = ['apple','guava', 'banana','watermelon','orange']\n",
    "fruits.pop()                           #pop>>removes last element\n",
    "fruits"
   ]
  },
  {
   "cell_type": "code",
   "execution_count": 40,
   "id": "9e4967a7-aa99-48ea-9a6c-b8f13ad404e2",
   "metadata": {},
   "outputs": [],
   "source": [
    "# 4. Compare and contrast tuples and lists with examples."
   ]
  },
  {
   "cell_type": "code",
   "execution_count": 1,
   "id": "6b9d09b0-73fd-446f-a166-a80ed1336b69",
   "metadata": {},
   "outputs": [],
   "source": [
    "#Python sequence types that can store collections of objects are tuples and lists. They do, however, have unique qualities and applications."
   ]
  },
  {
   "cell_type": "code",
   "execution_count": 2,
   "id": "f7bf9198-6751-400e-9584-d93f0485aafb",
   "metadata": {},
   "outputs": [
    {
     "name": "stdout",
     "output_type": "stream",
     "text": [
      "[1, 4, 3, 5]\n"
     ]
    }
   ],
   "source": [
    "#lists are mutable and defined using square brackets [ ].\n",
    "a = [1, 2, 3]\n",
    "a[1] = 4  # Modify \n",
    "a.append(5)  # Add \n",
    "print(a) "
   ]
  },
  {
   "cell_type": "code",
   "execution_count": 11,
   "id": "88c984e3-747a-4ebf-a4be-df0e6fe853c3",
   "metadata": {},
   "outputs": [
    {
     "ename": "TypeError",
     "evalue": "'tuple' object does not support item assignment",
     "output_type": "error",
     "traceback": [
      "\u001b[0;31m---------------------------------------------------------------------------\u001b[0m",
      "\u001b[0;31mTypeError\u001b[0m                                 Traceback (most recent call last)",
      "Cell \u001b[0;32mIn[11], line 3\u001b[0m\n\u001b[1;32m      1\u001b[0m \u001b[38;5;66;03m#tuple are immutable and defined using parentheses ( ).\u001b[39;00m\n\u001b[1;32m      2\u001b[0m a\u001b[38;5;241m=\u001b[39m (\u001b[38;5;241m1\u001b[39m, \u001b[38;5;241m2\u001b[39m, \u001b[38;5;241m3\u001b[39m)\n\u001b[0;32m----> 3\u001b[0m \u001b[43ma\u001b[49m\u001b[43m[\u001b[49m\u001b[38;5;241;43m1\u001b[39;49m\u001b[43m]\u001b[49m \u001b[38;5;241m=\u001b[39m \u001b[38;5;241m4\u001b[39m  \u001b[38;5;66;03m# Modify \u001b[39;00m\n\u001b[1;32m      4\u001b[0m a\u001b[38;5;241m.\u001b[39mappend(\u001b[38;5;241m5\u001b[39m)  \u001b[38;5;66;03m# Add \u001b[39;00m\n\u001b[1;32m      5\u001b[0m \u001b[38;5;28mprint\u001b[39m(a) \n",
      "\u001b[0;31mTypeError\u001b[0m: 'tuple' object does not support item assignment"
     ]
    }
   ],
   "source": [
    "#tuple are immutable and defined using parentheses ( ).\n",
    "a= (1, 2, 3)\n",
    "a[1] = 4  # Modify \n",
    "a.append(5)  # Add \n",
    "print(a) "
   ]
  },
  {
   "cell_type": "code",
   "execution_count": 1,
   "id": "5e2a56eb-ee09-4bed-a233-5039ede01c8b",
   "metadata": {},
   "outputs": [],
   "source": [
    "# 5. Describe the key features of sets and provide examples of their use."
   ]
  },
  {
   "cell_type": "code",
   "execution_count": 2,
   "id": "329a16f7-ca61-4a2b-a821-f784dc27a71d",
   "metadata": {},
   "outputs": [],
   "source": [
    "# set>>unordered collection of data that does not allow duplicate element and stored in unique way\n",
    "# it is intersection of two or more sets\n",
    "# no indexing and no slicing\n",
    "# mutable\n",
    "# defined using square brackets {}."
   ]
  },
  {
   "cell_type": "code",
   "execution_count": 13,
   "id": "6a623e84-08d5-48ef-8c20-03313159fb49",
   "metadata": {},
   "outputs": [
    {
     "data": {
      "text/plain": [
       "{1, 2, 3, 4}"
      ]
     },
     "execution_count": 13,
     "metadata": {},
     "output_type": "execute_result"
    }
   ],
   "source": [
    "a = {1, 2, 3, 4, 3, 2, 1}\n",
    "a                          #uniqueness"
   ]
  },
  {
   "cell_type": "code",
   "execution_count": 14,
   "id": "81a7752e-aeae-4287-8e95-9a2fca332785",
   "metadata": {},
   "outputs": [
    {
     "data": {
      "text/plain": [
       "{1, 2, 3, 4, 5}"
      ]
     },
     "execution_count": 14,
     "metadata": {},
     "output_type": "execute_result"
    }
   ],
   "source": [
    "a.add(5)\n",
    "a"
   ]
  },
  {
   "cell_type": "code",
   "execution_count": 15,
   "id": "40be0110-394b-44ce-aeb4-8626bbf2277f",
   "metadata": {},
   "outputs": [
    {
     "data": {
      "text/plain": [
       "{1, 2, 3, 4, 5, 'ajay'}"
      ]
     },
     "execution_count": 15,
     "metadata": {},
     "output_type": "execute_result"
    }
   ],
   "source": [
    "a.update([\"ajay\"])\n",
    "a"
   ]
  },
  {
   "cell_type": "code",
   "execution_count": 16,
   "id": "d95c3024-2215-46c0-a8c5-648eed8eded2",
   "metadata": {},
   "outputs": [
    {
     "data": {
      "text/plain": [
       "{1, 3, 4, 5, 6}"
      ]
     },
     "execution_count": 16,
     "metadata": {},
     "output_type": "execute_result"
    }
   ],
   "source": [
    "s1={1,3,4,5}\n",
    "s2={3,3,1,6}                  #union operation\n",
    "s1 | s2"
   ]
  },
  {
   "cell_type": "code",
   "execution_count": 17,
   "id": "5b9115f1-40ef-4417-85c0-eafba15ba2e7",
   "metadata": {},
   "outputs": [
    {
     "data": {
      "text/plain": [
       "{1, 3}"
      ]
     },
     "execution_count": 17,
     "metadata": {},
     "output_type": "execute_result"
    }
   ],
   "source": [
    "s1 & s2                       #intersection operation"
   ]
  },
  {
   "cell_type": "code",
   "execution_count": 18,
   "id": "a83fe250-89a9-422e-94f7-9ac94e14ddd6",
   "metadata": {},
   "outputs": [
    {
     "data": {
      "text/plain": [
       "{4, 5}"
      ]
     },
     "execution_count": 18,
     "metadata": {},
     "output_type": "execute_result"
    }
   ],
   "source": [
    "s1-s2                         #difference operation"
   ]
  },
  {
   "cell_type": "code",
   "execution_count": 19,
   "id": "d3959abe-a68a-4bb4-a57a-ebc19b4949bc",
   "metadata": {},
   "outputs": [
    {
     "data": {
      "text/plain": [
       "{4, 5, 6}"
      ]
     },
     "execution_count": 19,
     "metadata": {},
     "output_type": "execute_result"
    }
   ],
   "source": [
    "s1^s2                         #symmetric operations"
   ]
  },
  {
   "cell_type": "code",
   "execution_count": 20,
   "id": "8f64592f-d4b9-4f8c-b03e-9788a4b5b893",
   "metadata": {},
   "outputs": [
    {
     "data": {
      "text/plain": [
       "{0, 1, 4, 9, 16, 25}"
      ]
     },
     "execution_count": 20,
     "metadata": {},
     "output_type": "execute_result"
    }
   ],
   "source": [
    "squares = {x**2 for x in range(6)}\n",
    "squares                       #set comprehension"
   ]
  },
  {
   "cell_type": "code",
   "execution_count": 1,
   "id": "bacfded9-47a6-4702-9d82-e9647c23daca",
   "metadata": {},
   "outputs": [],
   "source": [
    "# 6. Discuss the use cases oftuples and sets in Python programming."
   ]
  },
  {
   "cell_type": "code",
   "execution_count": 4,
   "id": "c34b5f20-b244-4ba1-bf87-74dbd33573a1",
   "metadata": {},
   "outputs": [
    {
     "name": "stdout",
     "output_type": "stream",
     "text": [
      "kashish <class 'str'>\n",
      "1 <class 'int'>\n",
      "2 <class 'int'>\n",
      "True <class 'bool'>\n",
      "3.4 <class 'float'>\n"
     ]
    }
   ],
   "source": [
    "# use case of tuple\n",
    "\n",
    "tuple1=(\"kashish\",1,2,True,3.4)         \n",
    "for i in tuple1:\n",
    "    print(i,type(i))"
   ]
  },
  {
   "cell_type": "code",
   "execution_count": 6,
   "id": "9fbecaf1-e05a-4cbb-b872-46cb482a8db0",
   "metadata": {},
   "outputs": [
    {
     "name": "stdout",
     "output_type": "stream",
     "text": [
      "x: 5, y: 2\n",
      "x: 4, y: 4\n",
      "x: 5, y: 9\n"
     ]
    }
   ],
   "source": [
    "for value in [(5, 2), (4, 4), (5, 9)]:          #iterate\n",
    "    x, y = value\n",
    "    print(f\"x: {x}, y: {y}\")"
   ]
  },
  {
   "cell_type": "code",
   "execution_count": 9,
   "id": "be861a1d-bfbc-4561-85bb-0c6c79699df9",
   "metadata": {},
   "outputs": [
    {
     "ename": "TypeError",
     "evalue": "'tuple' object does not support item assignment",
     "output_type": "error",
     "traceback": [
      "\u001b[0;31m---------------------------------------------------------------------------\u001b[0m",
      "\u001b[0;31mTypeError\u001b[0m                                 Traceback (most recent call last)",
      "Cell \u001b[0;32mIn[9], line 1\u001b[0m\n\u001b[0;32m----> 1\u001b[0m \u001b[43mtuple1\u001b[49m\u001b[43m[\u001b[49m\u001b[38;5;241;43m2\u001b[39;49m\u001b[43m]\u001b[49m\u001b[38;5;241m=\u001b[39m\u001b[38;5;241m3\u001b[39m\n\u001b[1;32m      2\u001b[0m tuple1\n",
      "\u001b[0;31mTypeError\u001b[0m: 'tuple' object does not support item assignment"
     ]
    }
   ],
   "source": [
    "tuple1[2]=3         #immutable\n",
    "tuple1"
   ]
  },
  {
   "cell_type": "code",
   "execution_count": 8,
   "id": "83ed2132-816f-40e1-9158-530ee86cf70a",
   "metadata": {},
   "outputs": [
    {
     "name": "stdout",
     "output_type": "stream",
     "text": [
      "{(1, 2), (3, 4)}\n"
     ]
    }
   ],
   "source": [
    "a = set()\n",
    "a.add((1, 2))\n",
    "a.add((3, 4))\n",
    "a.add((1, 2))  # Duplicate not be added\n",
    "print(a)"
   ]
  },
  {
   "cell_type": "code",
   "execution_count": 1,
   "id": "9fd0f41c-6a03-48f5-b380-8fe6e249b6de",
   "metadata": {},
   "outputs": [],
   "source": [
    "#use cases of set"
   ]
  },
  {
   "cell_type": "code",
   "execution_count": 2,
   "id": "d76d6027-1b54-4988-a1aa-c27ed153f8ab",
   "metadata": {},
   "outputs": [
    {
     "name": "stdout",
     "output_type": "stream",
     "text": [
      "{1, 2, 3, 4, 5}\n"
     ]
    }
   ],
   "source": [
    "numbers = [1, 2, 2, 3, 4, 4, 5]      # Remove duplicates using a set\n",
    "a = set(numbers)\n",
    "print(a) "
   ]
  },
  {
   "cell_type": "code",
   "execution_count": 3,
   "id": "dc435d45-63ae-45f2-a0aa-fe8640869eb1",
   "metadata": {},
   "outputs": [],
   "source": [
    "#set performs set operation like union,intersection , difference and symmetric difference"
   ]
  },
  {
   "cell_type": "code",
   "execution_count": 4,
   "id": "7c7808da-d2b3-44a2-a3d2-099709fc82c9",
   "metadata": {},
   "outputs": [
    {
     "ename": "TypeError",
     "evalue": "unhashable type: 'set'",
     "output_type": "error",
     "traceback": [
      "\u001b[0;31m---------------------------------------------------------------------------\u001b[0m",
      "\u001b[0;31mTypeError\u001b[0m                                 Traceback (most recent call last)",
      "Cell \u001b[0;32mIn[4], line 1\u001b[0m\n\u001b[0;32m----> 1\u001b[0m a\u001b[38;5;241m=\u001b[39m{\u001b[38;5;241m1\u001b[39m,\u001b[38;5;241m2\u001b[39m,\u001b[38;5;241m4\u001b[39m,{\u001b[38;5;241m3\u001b[39m,\u001b[38;5;241m6\u001b[39m,\u001b[38;5;241m7\u001b[39m}}\n",
      "\u001b[0;31mTypeError\u001b[0m: unhashable type: 'set'"
     ]
    }
   ],
   "source": [
    "a={1,2,4,{3,6,7}}                      #we cant write set in set or list in set"
   ]
  },
  {
   "cell_type": "code",
   "execution_count": 6,
   "id": "b6de70c6-c54b-434b-8c90-7082bbd43214",
   "metadata": {},
   "outputs": [
    {
     "data": {
      "text/plain": [
       "{(3, 4, 6), 1, 4, 5}"
      ]
     },
     "execution_count": 6,
     "metadata": {},
     "output_type": "execute_result"
    }
   ],
   "source": [
    "a={1,(3,4,6),4,5}                      # we can write tuple in set as tuple are immutable\n",
    "a"
   ]
  },
  {
   "cell_type": "code",
   "execution_count": 8,
   "id": "c7e08a29-b784-45c5-ac8f-71d1a75873c2",
   "metadata": {},
   "outputs": [
    {
     "data": {
      "text/plain": [
       "{30, 40}"
      ]
     },
     "execution_count": 8,
     "metadata": {},
     "output_type": "execute_result"
    }
   ],
   "source": [
    "#sets used in data analysis\n",
    "a = {10, 20, 30, 40}\n",
    "b = {30, 40, 50, 60}    # Find common elements\n",
    "common = a & b\n",
    "common  "
   ]
  },
  {
   "cell_type": "code",
   "execution_count": 9,
   "id": "6fde166d-75f4-47f1-b2e5-ceefc96161d9",
   "metadata": {},
   "outputs": [
    {
     "data": {
      "text/plain": [
       "{50, 60}"
      ]
     },
     "execution_count": 9,
     "metadata": {},
     "output_type": "execute_result"
    }
   ],
   "source": [
    "unique_to_a = a - b         # Find elements unique to each dataset\n",
    "unique_to_b = b - a\n",
    "unique_to_a  \n",
    "unique_to_b"
   ]
  },
  {
   "cell_type": "code",
   "execution_count": 10,
   "id": "0565a231-a561-4ebf-b556-29b509757631",
   "metadata": {},
   "outputs": [],
   "source": [
    "# 7.Describe how to add , modify and delete items in a dictionary with examples."
   ]
  },
  {
   "cell_type": "code",
   "execution_count": 11,
   "id": "08f72878-d177-42bb-a92a-80ab03bb7d26",
   "metadata": {},
   "outputs": [
    {
     "data": {
      "text/plain": [
       "{'name': 'Alice', 'age': 30, 'city': 'New York'}"
      ]
     },
     "execution_count": 11,
     "metadata": {},
     "output_type": "execute_result"
    }
   ],
   "source": [
    "#dictionary are mutable\n",
    "\n",
    "a = {'name': 'Alice', 'age': 30}      #add\n",
    "a['city'] = 'New York'\n",
    "a"
   ]
  },
  {
   "cell_type": "code",
   "execution_count": 12,
   "id": "0576fad1-26f1-412d-81cd-2f3c434bc402",
   "metadata": {},
   "outputs": [
    {
     "data": {
      "text/plain": [
       "{'name': 'Alice', 'age': 31, 'city': 'New York'}"
      ]
     },
     "execution_count": 12,
     "metadata": {},
     "output_type": "execute_result"
    }
   ],
   "source": [
    "a['age']=31                           #modify\n",
    "a"
   ]
  },
  {
   "cell_type": "code",
   "execution_count": 13,
   "id": "e4c36b32-e7a5-4aa0-915d-7c33a86137ae",
   "metadata": {},
   "outputs": [
    {
     "data": {
      "text/plain": [
       "{'age': 31, 'city': 'New York'}"
      ]
     },
     "execution_count": 13,
     "metadata": {},
     "output_type": "execute_result"
    }
   ],
   "source": [
    "del a['name']                          #delete\n",
    "a"
   ]
  },
  {
   "cell_type": "code",
   "execution_count": 14,
   "id": "f9e2dfde-125c-492a-a9c9-b528a21c603e",
   "metadata": {},
   "outputs": [],
   "source": [
    "# 8.Discuss the importance of dictionary keys being immutable and provide example."
   ]
  },
  {
   "cell_type": "code",
   "execution_count": 15,
   "id": "ea0db70c-7d70-4472-902e-853738d026fc",
   "metadata": {},
   "outputs": [],
   "source": [
    "# As dictionary stores data in the form of key value pair so it ia important for dictionaries to be mutable so that if some value is to be changed than it would be easy.\n",
    "# phonebook is one of the example of dictionary\n",
    "# In dictionaries keys are unique and immutable(can't be changed} whereas the values are mutable(can be changed)."
   ]
  },
  {
   "cell_type": "code",
   "execution_count": 16,
   "id": "586622c2-37e4-4c82-b194-1839de9327c9",
   "metadata": {},
   "outputs": [
    {
     "data": {
      "text/plain": [
       "12345"
      ]
     },
     "execution_count": 16,
     "metadata": {},
     "output_type": "execute_result"
    }
   ],
   "source": [
    "# key-value mapping in a dictionary remains consistent and reliable\n",
    "a = {}\n",
    "key = 'user_id'\n",
    "a[key] = 12345\n",
    "a[key]"
   ]
  },
  {
   "cell_type": "code",
   "execution_count": 20,
   "id": "8ad24cbd-3571-46d5-b09e-1a18de36d3fe",
   "metadata": {},
   "outputs": [
    {
     "data": {
      "text/plain": [
       "'C'"
      ]
     },
     "execution_count": 20,
     "metadata": {},
     "output_type": "execute_result"
    }
   ],
   "source": [
    "#efficient storage\n",
    "coordinates = {(1, 2): 'A', (3, 4): 'B',(3, 8): 'C'}\n",
    "coordinates[(3,8)]"
   ]
  },
  {
   "cell_type": "code",
   "execution_count": 21,
   "id": "2162e27f-ade4-4692-afad-be0270a60131",
   "metadata": {},
   "outputs": [
    {
     "data": {
      "text/plain": [
       "'Alice'"
      ]
     },
     "execution_count": 21,
     "metadata": {},
     "output_type": "execute_result"
    }
   ],
   "source": [
    "dict = {'name': 'Alice', 'age': 30}\n",
    "dict['name'] "
   ]
  },
  {
   "cell_type": "code",
   "execution_count": null,
   "id": "58194003-deb9-408c-83d6-54571c9d047c",
   "metadata": {},
   "outputs": [],
   "source": []
  }
 ],
 "metadata": {
  "kernelspec": {
   "display_name": "Python 3 (ipykernel)",
   "language": "python",
   "name": "python3"
  },
  "language_info": {
   "codemirror_mode": {
    "name": "ipython",
    "version": 3
   },
   "file_extension": ".py",
   "mimetype": "text/x-python",
   "name": "python",
   "nbconvert_exporter": "python",
   "pygments_lexer": "ipython3",
   "version": "3.10.8"
  }
 },
 "nbformat": 4,
 "nbformat_minor": 5
}
